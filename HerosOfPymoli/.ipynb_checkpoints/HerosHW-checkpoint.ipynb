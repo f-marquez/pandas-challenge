{
 "cells": [
  {
   "cell_type": "code",
   "execution_count": null,
   "metadata": {},
   "outputs": [],
   "source": [
    "#set Up dependencies\n",
    "import pandas as pd\n",
    "import numpy as np\n",
    "\n",
    "#create a file path\n",
    "heros = \"resources/purchase_data.csv\"\n",
    "\n",
    "#reading the file and creating a table\n",
    "purchase_game = pd.read_csv(heros)\n",
    "purchase_game_df = pd.DataFrame(purchase_game)\n",
    "purchase_game_df.head()\n"
   ]
  },
  {
   "cell_type": "code",
   "execution_count": null,
   "metadata": {},
   "outputs": [],
   "source": [
    "#total player count\n",
    "#player_count = purchase_game.loc[:, [\"SN\", \"Age\", \"Gender\"]]\n",
    "#player_count2 = player_count.drop_duplicates()\n",
    "#final_count = player_count2.count()[0]\n",
    "player_count = len(purchase_game[\"SN\"].unique())\n",
    "pd.DataFrame({\"Total Players\": [player_count]}) "
   ]
  },
  {
   "cell_type": "code",
   "execution_count": null,
   "metadata": {},
   "outputs": [],
   "source": [
    "#number of unique items\n",
    "unique_items = len(purchase_game_df[\"Item ID\"].unique())\n",
    "unique_items \n",
    "pd.DataFrame({\"Total Items\": [unique_items]})"
   ]
  },
  {
   "cell_type": "code",
   "execution_count": null,
   "metadata": {},
   "outputs": [],
   "source": [
    "#total number of purchases needed to find average cost later on\n",
    "purchase_count = purchase_game_df[\"Purchase ID\"].count()\n",
    "purchase_count\n",
    "pd.DataFrame({\"Total # of Purchases\": [purchase_count]})"
   ]
  },
  {
   "cell_type": "code",
   "execution_count": null,
   "metadata": {},
   "outputs": [],
   "source": [
    "#total revenue from all purchases\n",
    "total_revenue = purchase_game_df[\"Price\"].sum()\n",
    "total_revenue\n",
    "pd.DataFrame({\"Total Revenue\": [total_revenue]})"
   ]
  },
  {
   "cell_type": "code",
   "execution_count": null,
   "metadata": {},
   "outputs": [],
   "source": [
    "#average purchase price\n",
    "average_price = total_revenue/purchase_count\n",
    "average_price\n",
    "pd.DataFrame({\"Average Price\": [average_price]})"
   ]
  },
  {
   "cell_type": "code",
   "execution_count": null,
   "metadata": {},
   "outputs": [],
   "source": [
    "#gender total count \n",
    "#gender_df = pd.DataFrame(purchase_game_df[\"Gender\"].value_counts())\n",
    "#gender_df = purchase_game_df.groupby(\"Gender\")\n",
    "#gender_each = gender_df[\"SN\"].nunique()\n",
    "#gender percentages\n",
    "#gender_percentages = (gender_each/player_count)*100\n",
    "\n",
    "#gender_df = purchase_game.loc[:, [\"SN\", \"Age\", \"Gender\"]]\n",
    "#gender_df = gender_df.drop_duplicates()\n",
    "#gender_df = len(gender_df[\"SN\"].unique())\n",
    "#gender_df\n"
   ]
  },
  {
   "cell_type": "code",
   "execution_count": null,
   "metadata": {},
   "outputs": [],
   "source": [
    "#gender totals per gender \n",
    "gender_df = purchase_game_df.groupby(\"Gender\")\n",
    "gender_each = gender_df[\"SN\"].nunique()\n",
    "gender_each"
   ]
  },
  {
   "cell_type": "code",
   "execution_count": null,
   "metadata": {},
   "outputs": [],
   "source": [
    "#gender percentages\n",
    "gender_percentages = (gender_each/player_count)*100\n",
    "gender_percentages"
   ]
  },
  {
   "cell_type": "code",
   "execution_count": null,
   "metadata": {},
   "outputs": [],
   "source": [
    "#age demographic\n",
    "age_groups = [0, 9.90, 14.90, 19.90, 24.90, 29.90, 34.90, 39.90, 99999]\n",
    "group_names = [\"<10\", \"10-14\", \"15-19\", \"20-24\", \"25-29\", \"30-34\", \"35-39\", \"40+\"]\n",
    "\n",
    "grps_by_age_purchase_data_df = purchase_game_df\n",
    "grps_by_age_purchase_data_df = pd.cut(grps_by_age_purchase_data_df[\"Age\"], age_groups, labels=group_names)\n",
    "grps_by_age_purchase_data_df"
   ]
  },
  {
   "cell_type": "code",
   "execution_count": null,
   "metadata": {},
   "outputs": [],
   "source": []
  }
 ],
 "metadata": {
  "kernelspec": {
   "display_name": "Python 3",
   "language": "python",
   "name": "python3"
  },
  "language_info": {
   "codemirror_mode": {
    "name": "ipython",
    "version": 3
   },
   "file_extension": ".py",
   "mimetype": "text/x-python",
   "name": "python",
   "nbconvert_exporter": "python",
   "pygments_lexer": "ipython3",
   "version": "3.8.5"
  }
 },
 "nbformat": 4,
 "nbformat_minor": 4
}
